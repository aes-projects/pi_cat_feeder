{
 "cells": [
  {
   "cell_type": "code",
   "execution_count": 1,
   "metadata": {},
   "outputs": [],
   "source": [
    "from gpiozero import Servo, AngularServo\n",
    "from time import sleep\n",
    "from datetime import datetime\n",
    "from requests import post\n",
    "import sys\n",
    "import numpy as np\n",
    "import os\n",
    "from glob import glob"
   ]
  },
  {
   "cell_type": "code",
   "execution_count": 8,
   "metadata": {},
   "outputs": [
    {
     "data": {
      "text/plain": [
       "['test.json']"
      ]
     },
     "execution_count": 8,
     "metadata": {},
     "output_type": "execute_result"
    }
   ],
   "source": []
  },
  {
   "cell_type": "code",
   "execution_count": 8,
   "metadata": {},
   "outputs": [],
   "source": [
    "now = datetime.now()\n",
    "\n",
    "url = os.environ.get('FEEDER_URL')\n",
    "\n",
    "min_angle = -54\n",
    "max_angle = 47\n",
    "num_angles = 20\n",
    "\n",
    "angle_step = 10\n",
    "\n",
    "mygpio = 17\n",
    "\n",
    "time = .3\n",
    "\n",
    "servo = AngularServo(mygpio, min_angle = min_angle, max_angle = max_angle, initial_angle = min_angle)"
   ]
  },
  {
   "cell_type": "code",
   "execution_count": 15,
   "metadata": {},
   "outputs": [],
   "source": [
    "def dispense(time, servo, num_angles):\n",
    "    num_angles = num_angles\n",
    "    angles = np.linspace(servo.min_angle, servo.max_angle, num_angles)\n",
    "    time_step = time/num_angles\n",
    "    for angle in np.concatenate((angles, angles[::-1])):\n",
    "        servo.angle = int(angle)\n",
    "        sleep(time_step)\n",
    "    servo.detach()"
   ]
  },
  {
   "cell_type": "code",
   "execution_count": null,
   "metadata": {},
   "outputs": [],
   "source": [
    "# def dispense(time, mygpio):\n",
    "#     servo = Servo(mygpio, initial_value=-1)\n",
    "#     sleep(.1)\n",
    "#     servo.max()\n",
    "#     sleep(time)\n",
    "#     servo.min()\n",
    "#     sleep(.1)\n",
    "#     servo.detach()\n",
    "#     return(1)"
   ]
  },
  {
   "cell_type": "code",
   "execution_count": 17,
   "metadata": {},
   "outputs": [],
   "source": [
    "dispense(time, servo, num_angles)"
   ]
  },
  {
   "cell_type": "code",
   "execution_count": 21,
   "metadata": {},
   "outputs": [],
   "source": [
    "def poster(url):\n",
    "    try:\n",
    "        post(url)\n",
    "    except Exception as exception:\n",
    "        return(0)\n",
    "#         writer(exception, status)\n",
    "    else:\n",
    "        return(1)\n",
    "        "
   ]
  },
  {
   "cell_type": "code",
   "execution_count": null,
   "metadata": {},
   "outputs": [],
   "source": [
    "def writer(exception, status)"
   ]
  },
  {
   "cell_type": "code",
   "execution_count": null,
   "metadata": {},
   "outputs": [],
   "source": [
    "def main(time, mygpio, url, min_angle, max_angle):\n",
    "    servo = AngularServo(mygpio, min_angle = min_angle, max_angle = max_angle, initial_angle = min_angle)\n",
    "    try:\n",
    "        status = dispense(time, mygpio)\n",
    "    except Exception as e:\n",
    "        status = 0\n",
    "#         append negative feed file with feed status and e\n",
    "    else:\n",
    "        poster(url, time, status)\n",
    "#         status = 1\n",
    "    finally:\n",
    "        print(status)\n",
    "#         append positive feed file with status\n",
    "#         poster(, status)\n",
    "\n",
    "        \n",
    "            \n",
    "        "
   ]
  },
  {
   "cell_type": "code",
   "execution_count": null,
   "metadata": {},
   "outputs": [],
   "source": [
    "main(time, mygpio, url)"
   ]
  },
  {
   "cell_type": "code",
   "execution_count": null,
   "metadata": {},
   "outputs": [],
   "source": []
  }
 ],
 "metadata": {
  "kernelspec": {
   "display_name": "Python [default]",
   "language": "python",
   "name": "python3"
  },
  "language_info": {
   "codemirror_mode": {
    "name": "ipython",
    "version": 3
   },
   "file_extension": ".py",
   "mimetype": "text/x-python",
   "name": "python",
   "nbconvert_exporter": "python",
   "pygments_lexer": "ipython3",
   "version": "3.6.6"
  }
 },
 "nbformat": 4,
 "nbformat_minor": 2
}
